{
  "nbformat": 4,
  "nbformat_minor": 0,
  "metadata": {
    "colab": {
      "provenance": [],
      "include_colab_link": true
    },
    "kernelspec": {
      "name": "python3",
      "display_name": "Python 3"
    },
    "language_info": {
      "name": "python"
    }
  },
  "cells": [
    {
      "cell_type": "markdown",
      "metadata": {
        "id": "view-in-github",
        "colab_type": "text"
      },
      "source": [
        "<a href=\"https://colab.research.google.com/github/AndrewEPrince/codespaces-blank/blob/main/models/ballsnet/BallsNetUI.ipynb\" target=\"_parent\"><img src=\"https://colab.research.google.com/assets/colab-badge.svg\" alt=\"Open In Colab\"/></a>"
      ]
    },
    {
      "cell_type": "code",
      "source": [
        "#@title Installations\n",
        "!pip install keras --upgrade -q"
      ],
      "metadata": {
        "cellView": "form",
        "id": "vMl6nWODcBYz"
      },
      "execution_count": null,
      "outputs": []
    },
    {
      "cell_type": "code",
      "source": [
        "#@title Imports\n",
        "from google.colab import data_table\n",
        "data_table.enable_dataframe_formatter()\n",
        "\n",
        "import requests\n",
        "import json\n",
        "import pandas as pd\n",
        "\n",
        "import numpy as np\n",
        "import matplotlib.pyplot as plt\n",
        "\n",
        "from keras.models import load_model\n",
        "from keras import backend as K\n",
        "\n",
        "from joblib import load\n",
        "\n",
        "!git clone https://github.com/AndrewEPrince/codespaces-blank.git"
      ],
      "metadata": {
        "colab": {
          "base_uri": "https://localhost:8080/"
        },
        "id": "FhZxqMBZTLi-",
        "outputId": "5603387d-d04c-4af1-a973-af1406c16e95",
        "cellView": "form"
      },
      "execution_count": null,
      "outputs": [
        {
          "output_type": "stream",
          "name": "stdout",
          "text": [
            "Cloning into 'codespaces-blank'...\n",
            "remote: Enumerating objects: 123, done.\u001b[K\n",
            "remote: Counting objects: 100% (123/123), done.\u001b[K\n",
            "remote: Compressing objects: 100% (104/104), done.\u001b[K\n",
            "remote: Total 123 (delta 69), reused 15 (delta 11), pack-reused 0\u001b[K\n",
            "Receiving objects: 100% (123/123), 5.12 MiB | 6.02 MiB/s, done.\n",
            "Resolving deltas: 100% (69/69), done.\n"
          ]
        }
      ]
    },
    {
      "cell_type": "code",
      "source": [
        "#@title Load Model\n",
        "K.clear_session()\n",
        "\n",
        "model = load_model(\"/content/codespaces-blank/models/ballsnet/ballsnet1.2.keras\")\n",
        "scaler = load(open(\"/content/codespaces-blank/models/ballsnet/ballsnet_scaler.joblib\", \"rb\"))"
      ],
      "metadata": {
        "cellView": "form",
        "id": "sJtU19m0bcj-"
      },
      "execution_count": 4,
      "outputs": []
    },
    {
      "cell_type": "code",
      "execution_count": null,
      "metadata": {
        "cellView": "form",
        "id": "l-GM5mJNTDv8"
      },
      "outputs": [],
      "source": [
        "#@title Get Data From API\n",
        "#@markdown Enter a URL for a group\n",
        "url = \"https://ballchasing.com/api/groups/testing-rkmp6qipbj/\" #@param {type: \"string\"}\n",
        "#@markdown Enter your API key\n",
        "api_key = '8wjl1G9d8V8Ymfju7hH8K57aKNUiNhYe5oOYOxNr' #@param {type: \"string\"}\n",
        "headers = {'Authorization': api_key }\n",
        "response = requests.get(url, headers=headers)\n",
        "data = json.loads(response.text)\n",
        "df = pd.json_normalize(data)\n",
        "\n"
      ]
    },
    {
      "cell_type": "code",
      "source": [
        "#@title Prediciton Options\n",
        "all_players = False #@param {type: \"boolean\"}\n",
        "#@markdown If ```all_players = False```, enter the index of desired players e.g. 0,3,5,9 or 5 otherwise leave blank.\n",
        "\n",
        "indices_of_players = '207,3,5' #@param {type: \"string\"}"
      ],
      "metadata": {
        "cellView": "form",
        "id": "OKtuD0LzJ6zy"
      },
      "execution_count": null,
      "outputs": []
    },
    {
      "cell_type": "code",
      "source": [
        "#@title Parse Data\n",
        "#@markdown Only shows first 20 columns.\n",
        "data_table.enable_dataframe_formatter()\n",
        "\n",
        "for i in range(len(df)):\n",
        "  data_df = pd.DataFrame(pd.json_normalize(df.iloc[i]['players']))\n",
        "  for j in range(len(data_df)):\n",
        "    temp_df = pd.DataFrame(data_df.iloc[j]).T\n",
        "    player_df = temp_df if i == 0 and j == 0 else pd.concat([player_df, temp_df])\n",
        "\n",
        "display(player_df.iloc[:, : 20])\n",
        "\n",
        "temp_player_df = player_df.drop(columns=['platform'], axis=1)\n",
        "temp_player_df = temp_player_df.drop(columns=['id'], axis=1)\n",
        "names = temp_player_df['name']\n",
        "temp_player_df = temp_player_df.drop(columns=['name'], axis=1)\n",
        "temp_player_df = temp_player_df.drop(columns=['team'], axis=1)\n",
        "temp_player_df = temp_player_df.drop(columns=['cumulative.games'], axis=1)\n",
        "\n",
        "x = np.asarray(temp_player_df)\n",
        "\n",
        "x_scaled = scaler.transform(x)"
      ],
      "metadata": {
        "cellView": "form",
        "id": "TxBgD5cDTVAS"
      },
      "execution_count": null,
      "outputs": []
    },
    {
      "cell_type": "code",
      "source": [
        "#@title Run Prediction\n",
        "# Convert indices_of_players to a list of integers\n",
        "selected_indices = [int(i) for i in indices_of_players.split(',')]\n",
        "\n",
        "if all_players:\n",
        "    # Use all players\n",
        "    x_scaled_selected = x_scaled\n",
        "    selected_names = names\n",
        "else:\n",
        "    # Use only the selected players if the indices are within the valid range\n",
        "    if all(index < len(x_scaled) for index in selected_indices):\n",
        "        x_scaled_selected = x_scaled[selected_indices]\n",
        "        selected_names = [names[i] for i in selected_indices]\n",
        "    else:\n",
        "        print(\"Invalid indices provided. Using all players.\")\n",
        "        x_scaled_selected = x_scaled\n",
        "        selected_names = names\n",
        "\n",
        "predictions = model.predict(x_scaled_selected, batch_size=None, verbose=1)\n",
        "\n",
        "classes = [\n",
        "    \"Premier\",\n",
        "    \"Master\",\n",
        "    \"Elite\",\n",
        "    \"Veteran\",\n",
        "    \"Rival\",\n",
        "    \"Challenger\",\n",
        "    \"Prospect\",\n",
        "    \"Contender\",\n",
        "    \"Amateur\"\n",
        "]\n",
        "\n",
        "num_classes = len(classes)\n",
        "\n",
        "for i, (pred, player_name) in enumerate(zip(predictions, selected_names)):\n",
        "    plt.figure(figsize=(6, 4))\n",
        "    plt.bar(range(num_classes), pred)\n",
        "    plt.xlabel('Rank')\n",
        "    plt.ylabel('Probability')\n",
        "    plt.title(f'{player_name}')\n",
        "    plt.xticks(range(num_classes), classes, rotation=45, ha='right')\n",
        "    plt.tight_layout()\n",
        "    plt.show()"
      ],
      "metadata": {
        "cellView": "form",
        "id": "63rU-XfcTY7E"
      },
      "execution_count": null,
      "outputs": []
    },
    {
      "cell_type": "code",
      "source": [],
      "metadata": {
        "id": "ybGfCMhhF7ZI"
      },
      "execution_count": null,
      "outputs": []
    }
  ]
}